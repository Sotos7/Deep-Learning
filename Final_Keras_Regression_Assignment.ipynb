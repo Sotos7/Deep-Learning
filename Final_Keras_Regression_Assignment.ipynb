{
 "cells": [
  {
   "cell_type": "markdown",
   "metadata": {},
   "source": [
    "# A Regression Model in Keras\n",
    "## Sotiris Papanikolaou"
   ]
  },
  {
   "cell_type": "markdown",
   "metadata": {},
   "source": [
    "## Table of Contents\n",
    "\n",
    "<div class=\"alert alert-block alert-info\" style=\"margin-top: 20px\">\n",
    "\n",
    "<font size = 3>\n",
    "    \n",
    "1. <a href=\"#item1\">Import and Clean Dataset</a>  \n",
    "2. <a href=\"#item2\">Build a Neural Network</a>  \n",
    "3. <a href=\"#item3\">Train and Test the Network</a>  \n",
    "\n",
    "</font>\n",
    "</div>"
   ]
  },
  {
   "cell_type": "markdown",
   "metadata": {},
   "source": [
    "<a id=\"item1\"></a>"
   ]
  },
  {
   "cell_type": "markdown",
   "metadata": {},
   "source": [
    "## Import and Clean Dataset"
   ]
  },
  {
   "cell_type": "code",
   "execution_count": 79,
   "metadata": {},
   "outputs": [],
   "source": [
    "import pandas as pd\n",
    "import numpy as np"
   ]
  },
  {
   "cell_type": "code",
   "execution_count": 10,
   "metadata": {},
   "outputs": [],
   "source": [
    "df = pd.read_csv(\"C:/Users/Sotiris/Documents/Coursera/IBM/IBM AI Engineering Professional Certificate/3. Introduction to Deep Learning & Neural Networks with Keras/Week 5/concrete_data.csv\", header=0)"
   ]
  },
  {
   "cell_type": "markdown",
   "metadata": {},
   "source": [
    "<strong>The dataset is about the compressive strength of different samples of concrete based on the volumes of the different ingredients that were used to make them. Ingredients include:</strong>\n",
    "\n",
    "<strong>1. Cement</strong>\n",
    "\n",
    "<strong>2. Blast Furnace Slag</strong>\n",
    "\n",
    "<strong>3. Fly Ash</strong>\n",
    "\n",
    "<strong>4. Water</strong>\n",
    "\n",
    "<strong>5. Superplasticizer</strong>\n",
    "\n",
    "<strong>6. Coarse Aggregate</strong>\n",
    "\n",
    "<strong>7. Fine Aggregate</strong>"
   ]
  },
  {
   "cell_type": "markdown",
   "metadata": {},
   "source": [
    "Let's take a look:"
   ]
  },
  {
   "cell_type": "code",
   "execution_count": 11,
   "metadata": {},
   "outputs": [
    {
     "name": "stdout",
     "output_type": "stream",
     "text": [
      "Dataframe's shape is: (1030, 9)\n"
     ]
    },
    {
     "data": {
      "text/html": [
       "<div>\n",
       "<style scoped>\n",
       "    .dataframe tbody tr th:only-of-type {\n",
       "        vertical-align: middle;\n",
       "    }\n",
       "\n",
       "    .dataframe tbody tr th {\n",
       "        vertical-align: top;\n",
       "    }\n",
       "\n",
       "    .dataframe thead th {\n",
       "        text-align: right;\n",
       "    }\n",
       "</style>\n",
       "<table border=\"1\" class=\"dataframe\">\n",
       "  <thead>\n",
       "    <tr style=\"text-align: right;\">\n",
       "      <th></th>\n",
       "      <th>Cement</th>\n",
       "      <th>Blast Furnace Slag</th>\n",
       "      <th>Fly Ash</th>\n",
       "      <th>Water</th>\n",
       "      <th>Superplasticizer</th>\n",
       "      <th>Coarse Aggregate</th>\n",
       "      <th>Fine Aggregate</th>\n",
       "      <th>Age</th>\n",
       "      <th>Strength</th>\n",
       "    </tr>\n",
       "  </thead>\n",
       "  <tbody>\n",
       "    <tr>\n",
       "      <th>0</th>\n",
       "      <td>540.0</td>\n",
       "      <td>0.0</td>\n",
       "      <td>0.0</td>\n",
       "      <td>162.0</td>\n",
       "      <td>2.5</td>\n",
       "      <td>1040.0</td>\n",
       "      <td>676.0</td>\n",
       "      <td>28</td>\n",
       "      <td>79.99</td>\n",
       "    </tr>\n",
       "    <tr>\n",
       "      <th>1</th>\n",
       "      <td>540.0</td>\n",
       "      <td>0.0</td>\n",
       "      <td>0.0</td>\n",
       "      <td>162.0</td>\n",
       "      <td>2.5</td>\n",
       "      <td>1055.0</td>\n",
       "      <td>676.0</td>\n",
       "      <td>28</td>\n",
       "      <td>61.89</td>\n",
       "    </tr>\n",
       "    <tr>\n",
       "      <th>2</th>\n",
       "      <td>332.5</td>\n",
       "      <td>142.5</td>\n",
       "      <td>0.0</td>\n",
       "      <td>228.0</td>\n",
       "      <td>0.0</td>\n",
       "      <td>932.0</td>\n",
       "      <td>594.0</td>\n",
       "      <td>270</td>\n",
       "      <td>40.27</td>\n",
       "    </tr>\n",
       "    <tr>\n",
       "      <th>3</th>\n",
       "      <td>332.5</td>\n",
       "      <td>142.5</td>\n",
       "      <td>0.0</td>\n",
       "      <td>228.0</td>\n",
       "      <td>0.0</td>\n",
       "      <td>932.0</td>\n",
       "      <td>594.0</td>\n",
       "      <td>365</td>\n",
       "      <td>41.05</td>\n",
       "    </tr>\n",
       "    <tr>\n",
       "      <th>4</th>\n",
       "      <td>198.6</td>\n",
       "      <td>132.4</td>\n",
       "      <td>0.0</td>\n",
       "      <td>192.0</td>\n",
       "      <td>0.0</td>\n",
       "      <td>978.4</td>\n",
       "      <td>825.5</td>\n",
       "      <td>360</td>\n",
       "      <td>44.30</td>\n",
       "    </tr>\n",
       "  </tbody>\n",
       "</table>\n",
       "</div>"
      ],
      "text/plain": [
       "   Cement  Blast Furnace Slag  Fly Ash  Water  Superplasticizer  \\\n",
       "0   540.0                 0.0      0.0  162.0               2.5   \n",
       "1   540.0                 0.0      0.0  162.0               2.5   \n",
       "2   332.5               142.5      0.0  228.0               0.0   \n",
       "3   332.5               142.5      0.0  228.0               0.0   \n",
       "4   198.6               132.4      0.0  192.0               0.0   \n",
       "\n",
       "   Coarse Aggregate  Fine Aggregate  Age  Strength  \n",
       "0            1040.0           676.0   28     79.99  \n",
       "1            1055.0           676.0   28     61.89  \n",
       "2             932.0           594.0  270     40.27  \n",
       "3             932.0           594.0  365     41.05  \n",
       "4             978.4           825.5  360     44.30  "
      ]
     },
     "execution_count": 11,
     "metadata": {},
     "output_type": "execute_result"
    }
   ],
   "source": [
    "print(\"Dataframe's shape is: {}\".format(df.shape))\n",
    "df.head()"
   ]
  },
  {
   "cell_type": "code",
   "execution_count": 12,
   "metadata": {},
   "outputs": [
    {
     "data": {
      "text/html": [
       "<div>\n",
       "<style scoped>\n",
       "    .dataframe tbody tr th:only-of-type {\n",
       "        vertical-align: middle;\n",
       "    }\n",
       "\n",
       "    .dataframe tbody tr th {\n",
       "        vertical-align: top;\n",
       "    }\n",
       "\n",
       "    .dataframe thead th {\n",
       "        text-align: right;\n",
       "    }\n",
       "</style>\n",
       "<table border=\"1\" class=\"dataframe\">\n",
       "  <thead>\n",
       "    <tr style=\"text-align: right;\">\n",
       "      <th></th>\n",
       "      <th>Cement</th>\n",
       "      <th>Blast Furnace Slag</th>\n",
       "      <th>Fly Ash</th>\n",
       "      <th>Water</th>\n",
       "      <th>Superplasticizer</th>\n",
       "      <th>Coarse Aggregate</th>\n",
       "      <th>Fine Aggregate</th>\n",
       "      <th>Age</th>\n",
       "      <th>Strength</th>\n",
       "    </tr>\n",
       "  </thead>\n",
       "  <tbody>\n",
       "    <tr>\n",
       "      <th>count</th>\n",
       "      <td>1030.000000</td>\n",
       "      <td>1030.000000</td>\n",
       "      <td>1030.000000</td>\n",
       "      <td>1030.000000</td>\n",
       "      <td>1030.000000</td>\n",
       "      <td>1030.000000</td>\n",
       "      <td>1030.000000</td>\n",
       "      <td>1030.000000</td>\n",
       "      <td>1030.000000</td>\n",
       "    </tr>\n",
       "    <tr>\n",
       "      <th>mean</th>\n",
       "      <td>281.167864</td>\n",
       "      <td>73.895825</td>\n",
       "      <td>54.188350</td>\n",
       "      <td>181.567282</td>\n",
       "      <td>6.204660</td>\n",
       "      <td>972.918932</td>\n",
       "      <td>773.580485</td>\n",
       "      <td>45.662136</td>\n",
       "      <td>35.817961</td>\n",
       "    </tr>\n",
       "    <tr>\n",
       "      <th>std</th>\n",
       "      <td>104.506364</td>\n",
       "      <td>86.279342</td>\n",
       "      <td>63.997004</td>\n",
       "      <td>21.354219</td>\n",
       "      <td>5.973841</td>\n",
       "      <td>77.753954</td>\n",
       "      <td>80.175980</td>\n",
       "      <td>63.169912</td>\n",
       "      <td>16.705742</td>\n",
       "    </tr>\n",
       "    <tr>\n",
       "      <th>min</th>\n",
       "      <td>102.000000</td>\n",
       "      <td>0.000000</td>\n",
       "      <td>0.000000</td>\n",
       "      <td>121.800000</td>\n",
       "      <td>0.000000</td>\n",
       "      <td>801.000000</td>\n",
       "      <td>594.000000</td>\n",
       "      <td>1.000000</td>\n",
       "      <td>2.330000</td>\n",
       "    </tr>\n",
       "    <tr>\n",
       "      <th>25%</th>\n",
       "      <td>192.375000</td>\n",
       "      <td>0.000000</td>\n",
       "      <td>0.000000</td>\n",
       "      <td>164.900000</td>\n",
       "      <td>0.000000</td>\n",
       "      <td>932.000000</td>\n",
       "      <td>730.950000</td>\n",
       "      <td>7.000000</td>\n",
       "      <td>23.710000</td>\n",
       "    </tr>\n",
       "    <tr>\n",
       "      <th>50%</th>\n",
       "      <td>272.900000</td>\n",
       "      <td>22.000000</td>\n",
       "      <td>0.000000</td>\n",
       "      <td>185.000000</td>\n",
       "      <td>6.400000</td>\n",
       "      <td>968.000000</td>\n",
       "      <td>779.500000</td>\n",
       "      <td>28.000000</td>\n",
       "      <td>34.445000</td>\n",
       "    </tr>\n",
       "    <tr>\n",
       "      <th>75%</th>\n",
       "      <td>350.000000</td>\n",
       "      <td>142.950000</td>\n",
       "      <td>118.300000</td>\n",
       "      <td>192.000000</td>\n",
       "      <td>10.200000</td>\n",
       "      <td>1029.400000</td>\n",
       "      <td>824.000000</td>\n",
       "      <td>56.000000</td>\n",
       "      <td>46.135000</td>\n",
       "    </tr>\n",
       "    <tr>\n",
       "      <th>max</th>\n",
       "      <td>540.000000</td>\n",
       "      <td>359.400000</td>\n",
       "      <td>200.100000</td>\n",
       "      <td>247.000000</td>\n",
       "      <td>32.200000</td>\n",
       "      <td>1145.000000</td>\n",
       "      <td>992.600000</td>\n",
       "      <td>365.000000</td>\n",
       "      <td>82.600000</td>\n",
       "    </tr>\n",
       "  </tbody>\n",
       "</table>\n",
       "</div>"
      ],
      "text/plain": [
       "            Cement  Blast Furnace Slag      Fly Ash        Water  \\\n",
       "count  1030.000000         1030.000000  1030.000000  1030.000000   \n",
       "mean    281.167864           73.895825    54.188350   181.567282   \n",
       "std     104.506364           86.279342    63.997004    21.354219   \n",
       "min     102.000000            0.000000     0.000000   121.800000   \n",
       "25%     192.375000            0.000000     0.000000   164.900000   \n",
       "50%     272.900000           22.000000     0.000000   185.000000   \n",
       "75%     350.000000          142.950000   118.300000   192.000000   \n",
       "max     540.000000          359.400000   200.100000   247.000000   \n",
       "\n",
       "       Superplasticizer  Coarse Aggregate  Fine Aggregate          Age  \\\n",
       "count       1030.000000       1030.000000     1030.000000  1030.000000   \n",
       "mean           6.204660        972.918932      773.580485    45.662136   \n",
       "std            5.973841         77.753954       80.175980    63.169912   \n",
       "min            0.000000        801.000000      594.000000     1.000000   \n",
       "25%            0.000000        932.000000      730.950000     7.000000   \n",
       "50%            6.400000        968.000000      779.500000    28.000000   \n",
       "75%           10.200000       1029.400000      824.000000    56.000000   \n",
       "max           32.200000       1145.000000      992.600000   365.000000   \n",
       "\n",
       "          Strength  \n",
       "count  1030.000000  \n",
       "mean     35.817961  \n",
       "std      16.705742  \n",
       "min       2.330000  \n",
       "25%      23.710000  \n",
       "50%      34.445000  \n",
       "75%      46.135000  \n",
       "max      82.600000  "
      ]
     },
     "execution_count": 12,
     "metadata": {},
     "output_type": "execute_result"
    }
   ],
   "source": [
    "df.describe()"
   ]
  },
  {
   "cell_type": "code",
   "execution_count": 13,
   "metadata": {},
   "outputs": [
    {
     "data": {
      "text/plain": [
       "Cement                0\n",
       "Blast Furnace Slag    0\n",
       "Fly Ash               0\n",
       "Water                 0\n",
       "Superplasticizer      0\n",
       "Coarse Aggregate      0\n",
       "Fine Aggregate        0\n",
       "Age                   0\n",
       "Strength              0\n",
       "dtype: int64"
      ]
     },
     "execution_count": 13,
     "metadata": {},
     "output_type": "execute_result"
    }
   ],
   "source": [
    "df.isnull().sum()"
   ]
  },
  {
   "cell_type": "markdown",
   "metadata": {},
   "source": [
    "The data looks very clean and is ready to be used to build our model."
   ]
  },
  {
   "cell_type": "markdown",
   "metadata": {},
   "source": [
    "Split the Data into predictors and target:"
   ]
  },
  {
   "cell_type": "code",
   "execution_count": 14,
   "metadata": {},
   "outputs": [],
   "source": [
    "predictors = df[df.columns[df.columns != 'Strength']]\n",
    "target = df['Strength']"
   ]
  },
  {
   "cell_type": "markdown",
   "metadata": {},
   "source": [
    "<a id=\"item2\"></a>"
   ]
  },
  {
   "cell_type": "markdown",
   "metadata": {},
   "source": [
    "## Build a Neural Network"
   ]
  },
  {
   "cell_type": "code",
   "execution_count": 17,
   "metadata": {},
   "outputs": [],
   "source": [
    "import keras"
   ]
  },
  {
   "cell_type": "code",
   "execution_count": 16,
   "metadata": {},
   "outputs": [],
   "source": [
    "from keras.models import Sequential\n",
    "from keras.layers import Dense"
   ]
  },
  {
   "cell_type": "markdown",
   "metadata": {},
   "source": [
    "Let's define a function that defines our regression model for us so that we can conveniently call it to create our model."
   ]
  },
  {
   "cell_type": "code",
   "execution_count": 20,
   "metadata": {},
   "outputs": [],
   "source": [
    "def regression_model():\n",
    "    #create model\n",
    "    #One hidden layer of 10 nodes, and a ReLU activation function.\n",
    "    model = Sequential()\n",
    "    model.add(Dense(10, activation='relu', input_shape=(predictors.shape[1],)))\n",
    "    model.add(Dense(1))\n",
    "    \n",
    "    \n",
    "    #Use the adam optimizer and the mean squared error as the loss function.\n",
    "    model.compile(optimizer='adam', loss='mean_squared_error')\n",
    "    return model"
   ]
  },
  {
   "cell_type": "markdown",
   "metadata": {},
   "source": [
    "<a id=\"item3\"></a>"
   ]
  },
  {
   "cell_type": "markdown",
   "metadata": {},
   "source": [
    "## Train and Test the Network\n",
    "## A. (Build a baseline model)"
   ]
  },
  {
   "cell_type": "code",
   "execution_count": 70,
   "metadata": {},
   "outputs": [],
   "source": [
    "model = regression_model()"
   ]
  },
  {
   "cell_type": "code",
   "execution_count": 71,
   "metadata": {
    "scrolled": true
   },
   "outputs": [
    {
     "name": "stdout",
     "output_type": "stream",
     "text": [
      "Train on 721 samples, validate on 309 samples\n",
      "Epoch 1/50\n",
      " - 0s - loss: 44742.7676 - val_loss: 11052.3084\n",
      "Epoch 2/50\n",
      " - 0s - loss: 4628.0996 - val_loss: 2448.6106\n",
      "Epoch 3/50\n",
      " - 0s - loss: 2747.5030 - val_loss: 2168.4017\n",
      "Epoch 4/50\n",
      " - 0s - loss: 2273.5715 - val_loss: 1970.4902\n",
      "Epoch 5/50\n",
      " - 0s - loss: 1973.8339 - val_loss: 1716.7210\n",
      "Epoch 6/50\n",
      " - 0s - loss: 1709.5810 - val_loss: 1500.8390\n",
      "Epoch 7/50\n",
      " - 0s - loss: 1479.5057 - val_loss: 1288.9296\n",
      "Epoch 8/50\n",
      " - 0s - loss: 1282.0864 - val_loss: 1124.8395\n",
      "Epoch 9/50\n",
      " - 0s - loss: 1117.4989 - val_loss: 970.8059\n",
      "Epoch 10/50\n",
      " - 0s - loss: 976.4605 - val_loss: 844.6991\n",
      "Epoch 11/50\n",
      " - 0s - loss: 857.9063 - val_loss: 731.6875\n",
      "Epoch 12/50\n",
      " - 0s - loss: 762.7022 - val_loss: 639.0719\n",
      "Epoch 13/50\n",
      " - 0s - loss: 682.9914 - val_loss: 554.0526\n",
      "Epoch 14/50\n",
      " - 0s - loss: 619.3553 - val_loss: 493.5106\n",
      "Epoch 15/50\n",
      " - 0s - loss: 563.3522 - val_loss: 431.0594\n",
      "Epoch 16/50\n",
      " - 0s - loss: 517.8444 - val_loss: 383.0644\n",
      "Epoch 17/50\n",
      " - 0s - loss: 478.3043 - val_loss: 345.0027\n",
      "Epoch 18/50\n",
      " - 0s - loss: 446.3328 - val_loss: 309.7160\n",
      "Epoch 19/50\n",
      " - 0s - loss: 417.9518 - val_loss: 276.0660\n",
      "Epoch 20/50\n",
      " - 0s - loss: 395.3351 - val_loss: 252.6877\n",
      "Epoch 21/50\n",
      " - 0s - loss: 374.7228 - val_loss: 232.5995\n",
      "Epoch 22/50\n",
      " - 0s - loss: 356.5706 - val_loss: 216.4601\n",
      "Epoch 23/50\n",
      " - 0s - loss: 341.9874 - val_loss: 199.0650\n",
      "Epoch 24/50\n",
      " - 0s - loss: 329.0273 - val_loss: 188.8254\n",
      "Epoch 25/50\n",
      " - 0s - loss: 317.2305 - val_loss: 176.6262\n",
      "Epoch 26/50\n",
      " - 0s - loss: 308.5669 - val_loss: 168.7742\n",
      "Epoch 27/50\n",
      " - 0s - loss: 298.2329 - val_loss: 162.2519\n",
      "Epoch 28/50\n",
      " - 0s - loss: 290.5290 - val_loss: 156.2570\n",
      "Epoch 29/50\n",
      " - 0s - loss: 285.1108 - val_loss: 150.2032\n",
      "Epoch 30/50\n",
      " - 0s - loss: 278.8928 - val_loss: 148.0762\n",
      "Epoch 31/50\n",
      " - 0s - loss: 270.9244 - val_loss: 142.2628\n",
      "Epoch 32/50\n",
      " - 0s - loss: 266.1947 - val_loss: 139.5645\n",
      "Epoch 33/50\n",
      " - 0s - loss: 261.7710 - val_loss: 136.5538\n",
      "Epoch 34/50\n",
      " - 0s - loss: 257.4293 - val_loss: 133.2696\n",
      "Epoch 35/50\n",
      " - 0s - loss: 252.9746 - val_loss: 134.8894\n",
      "Epoch 36/50\n",
      " - 0s - loss: 255.3213 - val_loss: 130.7690\n",
      "Epoch 37/50\n",
      " - 0s - loss: 245.8413 - val_loss: 132.4315\n",
      "Epoch 38/50\n",
      " - 0s - loss: 243.9106 - val_loss: 127.4703\n",
      "Epoch 39/50\n",
      " - 0s - loss: 239.3447 - val_loss: 127.1567\n",
      "Epoch 40/50\n",
      " - 0s - loss: 236.6643 - val_loss: 122.7191\n",
      "Epoch 41/50\n",
      " - 0s - loss: 234.7234 - val_loss: 123.5869\n",
      "Epoch 42/50\n",
      " - 0s - loss: 232.5999 - val_loss: 125.6357\n",
      "Epoch 43/50\n",
      " - 0s - loss: 228.9693 - val_loss: 119.4097\n",
      "Epoch 44/50\n",
      " - 0s - loss: 226.0868 - val_loss: 120.2665\n",
      "Epoch 45/50\n",
      " - 0s - loss: 223.7544 - val_loss: 119.3083\n",
      "Epoch 46/50\n",
      " - 0s - loss: 220.6445 - val_loss: 115.9569\n",
      "Epoch 47/50\n",
      " - 0s - loss: 218.8727 - val_loss: 114.9452\n",
      "Epoch 48/50\n",
      " - 0s - loss: 217.1464 - val_loss: 114.4781\n",
      "Epoch 49/50\n",
      " - 0s - loss: 215.3999 - val_loss: 112.5159\n",
      "Epoch 50/50\n",
      " - 0s - loss: 212.1740 - val_loss: 112.5103\n"
     ]
    },
    {
     "data": {
      "text/plain": [
       "<keras.callbacks.callbacks.History at 0x17bed2b7bc8>"
      ]
     },
     "execution_count": 71,
     "metadata": {},
     "output_type": "execute_result"
    }
   ],
   "source": [
    "#Randomly split the data into a training and test sets by holding 30% of the data for testing.\n",
    "#Train the model on the training data using 50 epochs.\n",
    "#Evaluate the model on the test data and compute the mean squared error between the predicted concrete strength and \n",
    "#the actual concrete strength.\n",
    "\n",
    "history = model.fit(predictors, target, validation_split=0.3, epochs=50, verbose=2)\n",
    "history"
   ]
  },
  {
   "cell_type": "code",
   "execution_count": 76,
   "metadata": {},
   "outputs": [],
   "source": [
    "scores = []\n",
    "for i in range(0,50):\n",
    "    model = regression_model()\n",
    "    history = model.fit(predictors, target, validation_split=0.3, epochs=50, verbose=0)\n",
    "    scores.append(history.history['val_loss'][-1])"
   ]
  },
  {
   "cell_type": "code",
   "execution_count": 77,
   "metadata": {
    "scrolled": true
   },
   "outputs": [
    {
     "data": {
      "text/plain": [
       "[793.9187529233667,\n",
       " 502.6741122643924,\n",
       " 1398.1478330741809,\n",
       " 609.6158945028064,\n",
       " 109.46629787803082,\n",
       " 350.97929486024725,\n",
       " 82.80734377617203,\n",
       " 122.12580249378982,\n",
       " 176.21955945653824,\n",
       " 573.8580133629463,\n",
       " 979.7591303853155,\n",
       " 1837.4592601195893,\n",
       " 78.81424293394613,\n",
       " 173.71308864358946,\n",
       " 118.83787025525731,\n",
       " 609.0255529903671,\n",
       " 171.51242346902495,\n",
       " 90.98333680976941,\n",
       " 241.23492599536686,\n",
       " 176.76715003942596,\n",
       " 467.23580157332435,\n",
       " 190.4056766349521,\n",
       " 112.28147757323428,\n",
       " 254.51244904848363,\n",
       " 105.11159554885815,\n",
       " 1252.8037840216678,\n",
       " 1167.4523078399955,\n",
       " 1179.4703619997092,\n",
       " 517.5043359651535,\n",
       " 142.0362751291022,\n",
       " 201.088652897807,\n",
       " 220.61378775291072,\n",
       " 303.2494284620563,\n",
       " 927.0124316169221,\n",
       " 107.19939434952721,\n",
       " 315.8103307828934,\n",
       " 168.83544270043234,\n",
       " 92.52685580207306,\n",
       " 420.7016180340912,\n",
       " 91.98569535437525,\n",
       " 96.16271883770101,\n",
       " 534.5207965937248,\n",
       " 634.2932969374178,\n",
       " 471.4735545926881,\n",
       " 95.65652106572124,\n",
       " 77.25512892837277,\n",
       " 105.79760939712277,\n",
       " 236.8588823238237,\n",
       " 830.692458266965,\n",
       " 664.2688691469458]"
      ]
     },
     "execution_count": 77,
     "metadata": {},
     "output_type": "execute_result"
    }
   ],
   "source": [
    "scores"
   ]
  },
  {
   "cell_type": "code",
   "execution_count": 87,
   "metadata": {},
   "outputs": [
    {
     "name": "stdout",
     "output_type": "stream",
     "text": [
      "The mean and the standard deviation of the mean squared errors respectively are: 423.6547485082434, 402.4765843988481\n"
     ]
    }
   ],
   "source": [
    "print(\"The mean and the standard deviation of the mean squared errors respectively are: {}, {}\"\\\n",
    "      .format(np.asarray(scores).mean(),np.asarray(scores).std()))"
   ]
  },
  {
   "cell_type": "markdown",
   "metadata": {},
   "source": [
    "## B. (Normalize data)"
   ]
  },
  {
   "cell_type": "code",
   "execution_count": 88,
   "metadata": {},
   "outputs": [
    {
     "data": {
      "text/html": [
       "<div>\n",
       "<style scoped>\n",
       "    .dataframe tbody tr th:only-of-type {\n",
       "        vertical-align: middle;\n",
       "    }\n",
       "\n",
       "    .dataframe tbody tr th {\n",
       "        vertical-align: top;\n",
       "    }\n",
       "\n",
       "    .dataframe thead th {\n",
       "        text-align: right;\n",
       "    }\n",
       "</style>\n",
       "<table border=\"1\" class=\"dataframe\">\n",
       "  <thead>\n",
       "    <tr style=\"text-align: right;\">\n",
       "      <th></th>\n",
       "      <th>Cement</th>\n",
       "      <th>Blast Furnace Slag</th>\n",
       "      <th>Fly Ash</th>\n",
       "      <th>Water</th>\n",
       "      <th>Superplasticizer</th>\n",
       "      <th>Coarse Aggregate</th>\n",
       "      <th>Fine Aggregate</th>\n",
       "      <th>Age</th>\n",
       "    </tr>\n",
       "  </thead>\n",
       "  <tbody>\n",
       "    <tr>\n",
       "      <th>0</th>\n",
       "      <td>2.476712</td>\n",
       "      <td>-0.856472</td>\n",
       "      <td>-0.846733</td>\n",
       "      <td>-0.916319</td>\n",
       "      <td>-0.620147</td>\n",
       "      <td>0.862735</td>\n",
       "      <td>-1.217079</td>\n",
       "      <td>-0.279597</td>\n",
       "    </tr>\n",
       "    <tr>\n",
       "      <th>1</th>\n",
       "      <td>2.476712</td>\n",
       "      <td>-0.856472</td>\n",
       "      <td>-0.846733</td>\n",
       "      <td>-0.916319</td>\n",
       "      <td>-0.620147</td>\n",
       "      <td>1.055651</td>\n",
       "      <td>-1.217079</td>\n",
       "      <td>-0.279597</td>\n",
       "    </tr>\n",
       "    <tr>\n",
       "      <th>2</th>\n",
       "      <td>0.491187</td>\n",
       "      <td>0.795140</td>\n",
       "      <td>-0.846733</td>\n",
       "      <td>2.174405</td>\n",
       "      <td>-1.038638</td>\n",
       "      <td>-0.526262</td>\n",
       "      <td>-2.239829</td>\n",
       "      <td>3.551340</td>\n",
       "    </tr>\n",
       "    <tr>\n",
       "      <th>3</th>\n",
       "      <td>0.491187</td>\n",
       "      <td>0.795140</td>\n",
       "      <td>-0.846733</td>\n",
       "      <td>2.174405</td>\n",
       "      <td>-1.038638</td>\n",
       "      <td>-0.526262</td>\n",
       "      <td>-2.239829</td>\n",
       "      <td>5.055221</td>\n",
       "    </tr>\n",
       "    <tr>\n",
       "      <th>4</th>\n",
       "      <td>-0.790075</td>\n",
       "      <td>0.678079</td>\n",
       "      <td>-0.846733</td>\n",
       "      <td>0.488555</td>\n",
       "      <td>-1.038638</td>\n",
       "      <td>0.070492</td>\n",
       "      <td>0.647569</td>\n",
       "      <td>4.976069</td>\n",
       "    </tr>\n",
       "  </tbody>\n",
       "</table>\n",
       "</div>"
      ],
      "text/plain": [
       "     Cement  Blast Furnace Slag   Fly Ash     Water  Superplasticizer  \\\n",
       "0  2.476712           -0.856472 -0.846733 -0.916319         -0.620147   \n",
       "1  2.476712           -0.856472 -0.846733 -0.916319         -0.620147   \n",
       "2  0.491187            0.795140 -0.846733  2.174405         -1.038638   \n",
       "3  0.491187            0.795140 -0.846733  2.174405         -1.038638   \n",
       "4 -0.790075            0.678079 -0.846733  0.488555         -1.038638   \n",
       "\n",
       "   Coarse Aggregate  Fine Aggregate       Age  \n",
       "0          0.862735       -1.217079 -0.279597  \n",
       "1          1.055651       -1.217079 -0.279597  \n",
       "2         -0.526262       -2.239829  3.551340  \n",
       "3         -0.526262       -2.239829  5.055221  \n",
       "4          0.070492        0.647569  4.976069  "
      ]
     },
     "execution_count": 88,
     "metadata": {},
     "output_type": "execute_result"
    }
   ],
   "source": [
    "predictors_standarized = (predictors-predictors.mean())/predictors.std()\n",
    "predictors_standarized.head()"
   ]
  },
  {
   "cell_type": "code",
   "execution_count": 89,
   "metadata": {},
   "outputs": [],
   "source": [
    "scores = []\n",
    "for i in range(0,50):\n",
    "    model = regression_model()\n",
    "    history = model.fit(predictors_standarized, target, validation_split=0.3, epochs=50, verbose=0)\n",
    "    scores.append(history.history['val_loss'][-1])"
   ]
  },
  {
   "cell_type": "code",
   "execution_count": 90,
   "metadata": {},
   "outputs": [
    {
     "name": "stdout",
     "output_type": "stream",
     "text": [
      "The mean and the standard deviation of the mean squared errors respectively are: 370.587381273782, 74.47726208953522\n"
     ]
    }
   ],
   "source": [
    "print(\"The mean and the standard deviation of the mean squared errors respectively are: {}, {}\"\\\n",
    "      .format(np.asarray(scores).mean(),np.asarray(scores).std()))"
   ]
  },
  {
   "cell_type": "markdown",
   "metadata": {},
   "source": [
    "We got a better mean with a smaller standard deviation. A better model !"
   ]
  },
  {
   "cell_type": "markdown",
   "metadata": {},
   "source": [
    "## C. (Increase the number of epochs)"
   ]
  },
  {
   "cell_type": "code",
   "execution_count": 91,
   "metadata": {},
   "outputs": [],
   "source": [
    "scores = []\n",
    "for i in range(0,50):\n",
    "    model = regression_model()\n",
    "    history = model.fit(predictors_standarized, target, validation_split=0.3, epochs=100, verbose=0)\n",
    "    scores.append(history.history['val_loss'][-1])"
   ]
  },
  {
   "cell_type": "code",
   "execution_count": 92,
   "metadata": {},
   "outputs": [
    {
     "name": "stdout",
     "output_type": "stream",
     "text": [
      "The mean and the standard deviation of the mean squared errors respectively are: 184.29799802020912, 21.786525278441516\n"
     ]
    }
   ],
   "source": [
    "print(\"The mean and the standard deviation of the mean squared errors respectively are: {}, {}\"\\\n",
    "      .format(np.asarray(scores).mean(),np.asarray(scores).std()))"
   ]
  },
  {
   "cell_type": "markdown",
   "metadata": {},
   "source": [
    "We got a better mean with a smaller standard deviation than B. We created a better model !"
   ]
  },
  {
   "cell_type": "markdown",
   "metadata": {},
   "source": [
    "## D. (Increase the number of hidden layers)"
   ]
  },
  {
   "cell_type": "code",
   "execution_count": 93,
   "metadata": {},
   "outputs": [],
   "source": [
    "def regression_model():\n",
    "    #create model\n",
    "    #One hidden layer of 10 nodes, and a ReLU activation function.\n",
    "    model = Sequential()\n",
    "    model.add(Dense(10, activation='relu', input_shape=(predictors.shape[1],)))\n",
    "    model.add(Dense(10, activation='relu'))\n",
    "    model.add(Dense(10, activation='relu'))\n",
    "    model.add(Dense(1))\n",
    "    \n",
    "    \n",
    "    #Use the adam optimizer and the mean squared error as the loss function.\n",
    "    model.compile(optimizer='adam', loss='mean_squared_error')\n",
    "    return model"
   ]
  },
  {
   "cell_type": "code",
   "execution_count": 94,
   "metadata": {},
   "outputs": [],
   "source": [
    "scores = []\n",
    "for i in range(0,50):\n",
    "    model = regression_model()\n",
    "    history = model.fit(predictors_standarized, target, validation_split=0.3, epochs=50, verbose=0)\n",
    "    scores.append(history.history['val_loss'][-1])"
   ]
  },
  {
   "cell_type": "code",
   "execution_count": 95,
   "metadata": {},
   "outputs": [
    {
     "name": "stdout",
     "output_type": "stream",
     "text": [
      "The mean and the standard deviation of the mean squared errors respectively are: 145.1533743868831, 25.19787465201204\n"
     ]
    }
   ],
   "source": [
    "print(\"The mean and the standard deviation of the mean squared errors respectively are: {}, {}\"\\\n",
    "      .format(np.asarray(scores).mean(),np.asarray(scores).std()))"
   ]
  },
  {
   "cell_type": "markdown",
   "metadata": {},
   "source": [
    "We got a better mean with a smaller standard deviation than B and C. We created a better model !"
   ]
  },
  {
   "cell_type": "code",
   "execution_count": null,
   "metadata": {},
   "outputs": [],
   "source": []
  },
  {
   "cell_type": "code",
   "execution_count": null,
   "metadata": {},
   "outputs": [],
   "source": []
  }
 ],
 "metadata": {
  "kernelspec": {
   "display_name": "Python 3",
   "language": "python",
   "name": "python3"
  },
  "language_info": {
   "codemirror_mode": {
    "name": "ipython",
    "version": 3
   },
   "file_extension": ".py",
   "mimetype": "text/x-python",
   "name": "python",
   "nbconvert_exporter": "python",
   "pygments_lexer": "ipython3",
   "version": "3.7.6"
  }
 },
 "nbformat": 4,
 "nbformat_minor": 4
}
