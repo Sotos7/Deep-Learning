{
 "cells": [
  {
   "cell_type": "markdown",
   "metadata": {},
   "source": [
    "# Logistic Regression with a Neural Network mindset:"
   ]
  },
  {
   "cell_type": "markdown",
   "metadata": {},
   "source": [
    "## 1. Numpy"
   ]
  },
  {
   "cell_type": "markdown",
   "metadata": {},
   "source": [
    "We will build a logistic regression classifier to recognize cats. This notebook will step us through how to do this with a Neural Network mindset."
   ]
  },
  {
   "cell_type": "markdown",
   "metadata": {},
   "source": [
    "In computer science, an image is represented by a 3D array of shape $(length, height, depth = 3)$. However, when you read an image as the input of an algorithm you convert it to a vector of shape $(length*height*3, 1)$. In other words, you \"unroll\", or reshape, the 3D array into a 1D vector.\n",
    "\n",
    "<img src=\"Images/image2vector_kiank.png\" style=\"width:500px;height:300;\">"
   ]
  },
  {
   "cell_type": "markdown",
   "metadata": {},
   "source": [
    "#### General Architecture of the learning algorithm ##\n",
    "\n",
    "It's time to design a simple algorithm to distinguish cat images from non-cat images.\n",
    "\n",
    "We will build a Logistic Regression, using a Neural Network mindset. The following Figure explains why **Logistic Regression is actually a very simple Neural Network!**\n",
    "\n",
    "<img src=\"Images/LogReg_kiank.png\" style=\"width:650px;height:400px;\">\n",
    "\n",
    "**Mathematical expression of the algorithm**:\n",
    "\n",
    "For one example $x^{(i)}$:\n",
    "$$z^{(i)} = w^T x^{(i)} + b \\tag{1}$$\n",
    "$$\\hat{y}^{(i)} = a^{(i)} = sigmoid(z^{(i)})\\tag{2}$$ \n",
    "$$ \\mathcal{L}(a^{(i)}, y^{(i)}) =  - y^{(i)}  \\log(a^{(i)}) - (1-y^{(i)} )  \\log(1-a^{(i)})\\tag{3}$$\n",
    "\n",
    "The cost is then computed by summing over all training examples:\n",
    "$$ J = \\frac{1}{m} \\sum_{i=1}^m \\mathcal{L}(a^{(i)}, y^{(i)})\\tag{4} = -\\frac{1}{m}\\sum_{i=1}^{m}(y^{(i)}\\log(a^{(i)})+(1-y^{(i)})\\log(1-a^{(i)}))$$\n",
    "\n",
    "Here are the two formulas we will be using for backpropagation: \n",
    "\n",
    "$$ \\frac{\\partial J}{\\partial w} = \\frac{1}{m} X(A-Y)^T\\tag{5}$$\n",
    "and \n",
    "\n",
    "$$ \\frac{\\partial J}{\\partial b} = \\frac{1}{m} \\sum_{i=1}^m (a^{(i)}-y^{(i)})\\tag{6}$$\n",
    "\n",
    "**The main steps for building our Neural Network are:**\n",
    "1. Define the model structure (such as number of input features) \n",
    "2. Initialize the model's parameters\n",
    "3. Loop:\n",
    "    - Calculate current cost (forward propagation)\n",
    "    - Calculate current gradient (backward propagation)\n",
    "    - Update parameters minimizing the cost (gradient descent)\n",
    "4. Use the learned parameters to make predictions (on the test set)\n",
    "5. Analyse the results and conclude"
   ]
  },
  {
   "cell_type": "markdown",
   "metadata": {},
   "source": [
    "First let's import all required packages:\n",
    "- [numpy](www.numpy.org) is the fundamental package for scientific computing with Python.\n",
    "- [h5py](http://www.h5py.org) is a common package to interact with a dataset that is stored on an H5 file.\n",
    "- [matplotlib](http://matplotlib.org) is a famous library to plot graphs in Python.\n",
    "- [PIL](http://www.pythonware.com/products/pil/) and [scipy](https://www.scipy.org/) are used here to test your model with your own picture at the end."
   ]
  },
  {
   "cell_type": "code",
   "execution_count": 1,
   "metadata": {
    "collapsed": true
   },
   "outputs": [],
   "source": [
    "import numpy as np\n",
    "import matplotlib.pyplot as plt\n",
    "import h5py\n",
    "import scipy\n",
    "from PIL import Image\n",
    "from scipy import ndimage\n",
    "from lr_utils import load_dataset\n",
    "\n",
    "%matplotlib inline"
   ]
  },
  {
   "cell_type": "markdown",
   "metadata": {},
   "source": [
    "Load Data."
   ]
  },
  {
   "cell_type": "code",
   "execution_count": 2,
   "metadata": {
    "collapsed": true
   },
   "outputs": [],
   "source": [
    "# Loading the data (cat/non-cat)\n",
    "x_train, y_train, x_test, y_test, classes = load_dataset()"
   ]
  },
  {
   "cell_type": "code",
   "execution_count": 3,
   "metadata": {},
   "outputs": [
    {
     "name": "stdout",
     "output_type": "stream",
     "text": [
      "(209, 64, 64, 3)\n",
      "(50, 64, 64, 3)\n"
     ]
    }
   ],
   "source": [
    "print(x_train.shape)\n",
    "print(x_test.shape)"
   ]
  },
  {
   "cell_type": "markdown",
   "metadata": {},
   "source": [
    "Each x element is a picture, a (64,64,3) array."
   ]
  },
  {
   "cell_type": "code",
   "execution_count": 4,
   "metadata": {
    "scrolled": true
   },
   "outputs": [
    {
     "name": "stdout",
     "output_type": "stream",
     "text": [
      "(64, 64, 3)\n"
     ]
    },
    {
     "data": {
      "text/plain": [
       "array([[[17, 31, 56],\n",
       "        [22, 33, 59],\n",
       "        [25, 35, 62],\n",
       "        ..., \n",
       "        [ 1, 28, 57],\n",
       "        [ 1, 26, 56],\n",
       "        [ 1, 22, 51]],\n",
       "\n",
       "       [[25, 36, 62],\n",
       "        [28, 38, 64],\n",
       "        [30, 40, 67],\n",
       "        ..., \n",
       "        [ 1, 27, 56],\n",
       "        [ 1, 25, 55],\n",
       "        [ 2, 21, 51]],\n",
       "\n",
       "       [[32, 40, 67],\n",
       "        [34, 42, 69],\n",
       "        [35, 42, 70],\n",
       "        ..., \n",
       "        [ 1, 25, 55],\n",
       "        [ 0, 24, 54],\n",
       "        [ 1, 21, 51]],\n",
       "\n",
       "       ..., \n",
       "       [[ 0,  0,  0],\n",
       "        [ 0,  0,  0],\n",
       "        [ 0,  0,  0],\n",
       "        ..., \n",
       "        [ 0,  0,  0],\n",
       "        [ 0,  0,  0],\n",
       "        [ 0,  0,  0]],\n",
       "\n",
       "       [[ 0,  0,  0],\n",
       "        [ 0,  0,  0],\n",
       "        [ 0,  0,  0],\n",
       "        ..., \n",
       "        [ 0,  0,  0],\n",
       "        [ 0,  0,  0],\n",
       "        [ 0,  0,  0]],\n",
       "\n",
       "       [[ 0,  0,  0],\n",
       "        [ 0,  0,  0],\n",
       "        [ 0,  0,  0],\n",
       "        ..., \n",
       "        [ 0,  0,  0],\n",
       "        [ 0,  0,  0],\n",
       "        [ 0,  0,  0]]], dtype=uint8)"
      ]
     },
     "execution_count": 4,
     "metadata": {},
     "output_type": "execute_result"
    }
   ],
   "source": [
    "print(x_train[0].shape)\n",
    "x_train[0]"
   ]
  },
  {
   "cell_type": "markdown",
   "metadata": {},
   "source": [
    "Each y[0,i] element is a binary that indicates cat or no cat."
   ]
  },
  {
   "cell_type": "code",
   "execution_count": 5,
   "metadata": {},
   "outputs": [
    {
     "name": "stdout",
     "output_type": "stream",
     "text": [
      "(1, 209)\n"
     ]
    },
    {
     "data": {
      "text/plain": [
       "1"
      ]
     },
     "execution_count": 5,
     "metadata": {},
     "output_type": "execute_result"
    }
   ],
   "source": [
    "print(y_train.shape)\n",
    "y_train[0,25]"
   ]
  },
  {
   "cell_type": "code",
   "execution_count": 6,
   "metadata": {},
   "outputs": [
    {
     "name": "stdout",
     "output_type": "stream",
     "text": [
      "cat\n"
     ]
    },
    {
     "data": {
      "image/png": "[encoded data removed]",
      "text/plain": [
       "<matplotlib.figure.Figure at 0x7f7c660b4240>"
      ]
     },
     "metadata": {},
     "output_type": "display_data"
    }
   ],
   "source": [
    "index = 24\n",
    "plt.imshow(x_train[index])\n",
    "print(classes[np.squeeze(y_train[0, index])].decode(\"utf-8\"))"
   ]
  },
  {
   "cell_type": "markdown",
   "metadata": {},
   "source": [
    "#### Reshape the training and test data sets so that images of size (64, 64, 3) are flattened into single vectors of shape (64 ∗ 64  ∗ 3, 1)."
   ]
  },
  {
   "cell_type": "code",
   "execution_count": 7,
   "metadata": {
    "collapsed": true
   },
   "outputs": [],
   "source": [
    "x_train_flattened = x_train.reshape(x_train.shape[0],-1).T\n",
    "x_test_flattened = x_test.reshape(x_test.shape[0],-1).T"
   ]
  },
  {
   "cell_type": "markdown",
   "metadata": {},
   "source": [
    "Now each column of x_train_flattened is a vectorized flattened image."
   ]
  },
  {
   "cell_type": "code",
   "execution_count": 8,
   "metadata": {},
   "outputs": [
    {
     "name": "stdout",
     "output_type": "stream",
     "text": [
      "(12288, 209)\n"
     ]
    },
    {
     "data": {
      "text/plain": [
       "array([[ 17, 196,  82, ..., 143,  22,   8],\n",
       "       [ 31, 192,  71, ..., 155,  24,  28],\n",
       "       [ 56, 190,  68, ..., 165,  23,  53],\n",
       "       ..., \n",
       "       [  0,  82, 138, ...,  85,   4,   0],\n",
       "       [  0,  80, 141, ..., 107,   5,   0],\n",
       "       [  0,  81, 142, ..., 149,   0,   0]], dtype=uint8)"
      ]
     },
     "execution_count": 8,
     "metadata": {},
     "output_type": "execute_result"
    }
   ],
   "source": [
    "print(x_train_flattened.shape)\n",
    "x_train_flattened"
   ]
  },
  {
   "cell_type": "markdown",
   "metadata": {},
   "source": [
    "To represent color images, the red, green and blue channels (RGB) must be specified for each pixel, and so the pixel value is actually a vector of three numbers ranging from 0 to 255. So to normalize our data we just devide by 255."
   ]
  },
  {
   "cell_type": "code",
   "execution_count": 9,
   "metadata": {
    "collapsed": true
   },
   "outputs": [],
   "source": [
    "x_train_flattened = x_train_flattened/255\n",
    "x_test_flattened = x_test_flattened/255"
   ]
  },
  {
   "cell_type": "code",
   "execution_count": 10,
   "metadata": {
    "collapsed": true
   },
   "outputs": [],
   "source": [
    "X = x_train_flattened\n",
    "X_test = x_test_flattened\n",
    "Y = y_train\n",
    "Y_test = y_test"
   ]
  },
  {
   "cell_type": "markdown",
   "metadata": {},
   "source": [
    "We define some functions that we will use for our model construction."
   ]
  },
  {
   "cell_type": "code",
   "execution_count": 11,
   "metadata": {
    "collapsed": true
   },
   "outputs": [],
   "source": [
    "def initialize_parameters(dim):\n",
    "    w = np.zeros((dim,1))\n",
    "    b = 0\n",
    "    return w, b"
   ]
  },
  {
   "cell_type": "code",
   "execution_count": 12,
   "metadata": {
    "collapsed": true
   },
   "outputs": [],
   "source": [
    "def sigmoid(z):\n",
    "    a = 1/(1+np.exp(-z))\n",
    "    return a"
   ]
  },
  {
   "cell_type": "code",
   "execution_count": 13,
   "metadata": {
    "collapsed": true
   },
   "outputs": [],
   "source": [
    "def forward(X, w, b):\n",
    "    Y_hat = sigmoid(np.dot(w.T, X) + b)\n",
    "    return Y_hat"
   ]
  },
  {
   "cell_type": "code",
   "execution_count": 14,
   "metadata": {
    "collapsed": true
   },
   "outputs": [],
   "source": [
    "def Y_prediction(X, w, b):\n",
    "    Y_hat = forward(X, w, b)\n",
    "    for j in range(X.shape[1]):\n",
    "        if Y_hat[0,j] > 0.5:\n",
    "            Y_hat[0,j] = 1\n",
    "        else:\n",
    "            Y_hat[0,j] = 0\n",
    "    return Y_hat"
   ]
  },
  {
   "cell_type": "markdown",
   "metadata": {},
   "source": [
    "**Define our main optimization function that calculates the parameters w, b minimizing the cost with gradient descent.**"
   ]
  },
  {
   "cell_type": "code",
   "execution_count": 15,
   "metadata": {
    "collapsed": true
   },
   "outputs": [],
   "source": [
    "def gradient_descent(X, Y, num_iterations, learning_rate, print_cost = True):\n",
    "    m = X.shape[1]\n",
    "    cost_list = []\n",
    "\n",
    "    w, b = initialize_parameters(64*64*3)\n",
    "    Y_hat = forward(X, w, b)\n",
    "    cost = -(1/m)*np.sum(Y*np.log(Y_hat)+(1-Y)*np.log(1-Y_hat))\n",
    "    cost_list.append(cost)\n",
    "    \n",
    "    for i in range(num_iterations):\n",
    "        Y_hat = forward(X, w, b)\n",
    "        dw = (1/m)*(np.dot(X,(Y_hat-Y).T))\n",
    "        db = (1/m)*np.sum(Y_hat-Y)\n",
    "        w = w - learning_rate*dw\n",
    "        b = b - learning_rate*db\n",
    "    \n",
    "        if i % 100 == 0:\n",
    "            cost = -(1/m)*np.sum(Y*np.log(Y_hat)+(1-Y)*np.log(1-Y_hat))\n",
    "            cost_list.append(cost)\n",
    "            if print_cost:\n",
    "                print(\"Cost after iteration {}: {}\".format(i,cost))\n",
    "        else: pass\n",
    "        \n",
    "    Y_hat_train = Y_prediction(X, w, b)\n",
    "    Y_hat_test = Y_prediction(X_test, w, b)\n",
    "    train_accuracy = 100 - np.mean(np.abs(Y_hat_train - Y))*100\n",
    "    test_accuracy = 100 - np.mean(np.abs(Y_hat_test - Y_test))*100\n",
    "\n",
    "    print(\"train accuracy: {}\".format(train_accuracy))\n",
    "    print(\"test accuracy: {}\".format(test_accuracy))\n",
    "    \n",
    "    d = {\"costs\": cost_list,\n",
    "         \"Y_prediction_test\": Y_hat_test, \n",
    "         \"Y_prediction_train\" : Y_hat_train, \n",
    "         \"w\" : w, \n",
    "         \"b\" : b,\n",
    "         \"learning_rate\" : learning_rate,\n",
    "         \"num_iterations\": num_iterations}\n",
    "    \n",
    "    return d"
   ]
  },
  {
   "cell_type": "markdown",
   "metadata": {},
   "source": [
    "Let's construct and evaluate our model:"
   ]
  },
  {
   "cell_type": "code",
   "execution_count": 16,
   "metadata": {},
   "outputs": [
    {
     "name": "stdout",
     "output_type": "stream",
     "text": [
      "Cost after iteration 0: 0.6931471805599453\n",
      "Cost after iteration 100: 0.5845083636993086\n",
      "Cost after iteration 200: 0.4669490409465547\n",
      "Cost after iteration 300: 0.37600686694802077\n",
      "Cost after iteration 400: 0.3314632893282512\n",
      "Cost after iteration 500: 0.30327306747438293\n",
      "Cost after iteration 600: 0.2798795865826048\n",
      "Cost after iteration 700: 0.2600421369258757\n",
      "Cost after iteration 800: 0.2429406846779662\n",
      "Cost after iteration 900: 0.22800422256726066\n",
      "Cost after iteration 1000: 0.21481951378449635\n",
      "Cost after iteration 1100: 0.20307819060644988\n",
      "Cost after iteration 1200: 0.19254427716706862\n",
      "Cost after iteration 1300: 0.18303333796883509\n",
      "Cost after iteration 1400: 0.1743985943844888\n",
      "Cost after iteration 1500: 0.16652139705400335\n",
      "Cost after iteration 1600: 0.15930451829756614\n",
      "Cost after iteration 1700: 0.15266732471296504\n",
      "Cost after iteration 1800: 0.1465422350398234\n",
      "Cost after iteration 1900: 0.14087207570310162\n",
      "train accuracy: 99.04306220095694\n",
      "test accuracy: 70.0\n"
     ]
    }
   ],
   "source": [
    "d = gradient_descent(X, Y, num_iterations=2000, learning_rate=0.005, print_cost = True)"
   ]
  },
  {
   "cell_type": "markdown",
   "metadata": {},
   "source": [
    "Changing Hyperparameters:"
   ]
  },
  {
   "cell_type": "code",
   "execution_count": 17,
   "metadata": {},
   "outputs": [
    {
     "name": "stdout",
     "output_type": "stream",
     "text": [
      "learning rate is: 0.01\n",
      "train accuracy: 98.56459330143541\n",
      "test accuracy: 70.0\n",
      "\n",
      "-------------------------------------------------------\n",
      "\n",
      "learning rate is: 0.005\n",
      "train accuracy: 96.65071770334929\n",
      "test accuracy: 72.0\n",
      "\n",
      "-------------------------------------------------------\n",
      "\n",
      "learning rate is: 0.0001\n",
      "train accuracy: 66.02870813397129\n",
      "test accuracy: 36.0\n",
      "\n",
      "-------------------------------------------------------\n",
      "\n"
     ]
    },
    {
     "data": {
      "image/png": "[encoded data removed]",
      "text/plain": [
       "<matplotlib.figure.Figure at 0x7f7c62a70ac8>"
      ]
     },
     "metadata": {},
     "output_type": "display_data"
    }
   ],
   "source": [
    "learning_rates = [0.01, 0.005, 0.0001]\n",
    "models = {}\n",
    "for i in learning_rates:\n",
    "    print (\"learning rate is: \" + str(i))\n",
    "    models[str(i)] = gradient_descent(X, Y, num_iterations=1000, learning_rate=i, print_cost = False)\n",
    "    print ('\\n' + \"-------------------------------------------------------\" + '\\n')\n",
    "\n",
    "for i in learning_rates:\n",
    "    plt.plot(np.squeeze(models[str(i)][\"costs\"]), label= str(models[str(i)][\"learning_rate\"]))\n",
    "\n",
    "plt.ylabel('cost')\n",
    "plt.xlabel('iterations (hundreds)')\n",
    "\n",
    "legend = plt.legend(loc='upper right', shadow=True)\n",
    "frame = legend.get_frame()\n",
    "frame.set_facecolor('0.90')\n",
    "plt.show()"
   ]
  },
  {
   "cell_type": "markdown",
   "metadata": {
    "collapsed": true
   },
   "source": [
    "**As we can see different hyperparamaters can lead to overvfit or underfit and also different accuracy scores.**"
   ]
  },
  {
   "cell_type": "markdown",
   "metadata": {},
   "source": [
    "==========================================================================================================="
   ]
  },
  {
   "cell_type": "markdown",
   "metadata": {},
   "source": [
    "## 2. PyTorch"
   ]
  },
  {
   "cell_type": "markdown",
   "metadata": {},
   "source": [
    "Soon we will add a similar and very intriguing approach on this problem using the PyTorch deep learning library."
   ]
  },
  {
   "cell_type": "code",
   "execution_count": 1,
   "metadata": {
    "collapsed": true
   },
   "outputs": [],
   "source": [
    "import numpy as np\n",
    "import matplotlib.pyplot as plt\n",
    "# import scipy\n",
    "# from PIL import Image\n",
    "# from scipy import ndimage\n",
    "\n",
    "import torch\n",
    "import torchvision.datasets as datasets\n",
    "\n",
    "%matplotlib inline"
   ]
  },
  {
   "cell_type": "code",
   "execution_count": 2,
   "metadata": {
    "collapsed": true
   },
   "outputs": [],
   "source": [
    "mnist_trainset = datasets.MNIST(root='./data', train=True, download=True, transform=None)\n",
    "mnist_testset = datasets.MNIST(root='./data', train=False, download=True, transform=None)\n"
   ]
  },
  {
   "cell_type": "code",
   "execution_count": 3,
   "metadata": {},
   "outputs": [
    {
     "name": "stdout",
     "output_type": "stream",
     "text": [
      "torch.Size([60000, 28, 28])\n",
      "torch.Size([60000])\n",
      "torch.Size([10000, 28, 28])\n",
      "torch.Size([10000])\n"
     ]
    }
   ],
   "source": [
    "x_train = mnist_trainset.data\n",
    "y_train = mnist_trainset.targets\n",
    "\n",
    "x_test = mnist_testset.data\n",
    "y_test = mnist_testset.targets\n",
    "\n",
    "print(x_train.shape)\n",
    "print(y_train.shape)\n",
    "print(x_test.shape)\n",
    "print(y_test.shape)\n",
    "\n",
    "\n",
    "x_train = x_train.type(torch.float32)\n",
    "\n",
    "x_test = x_test.type(torch.float32)\n",
    "\n",
    "\n"
   ]
  },
  {
   "cell_type": "code",
   "execution_count": 4,
   "metadata": {},
   "outputs": [],
   "source": [
    "y_train = torch.tensor([1 if i==9 else 0 for i in y_train.tolist()])\n",
    "y_test = torch.tensor([1 if i==9 else 0 for i in y_test.tolist()])"
   ]
  },
  {
   "cell_type": "code",
   "execution_count": 5,
   "metadata": {},
   "outputs": [],
   "source": [
    "x_train_flattened = x_train.reshape(x_train.shape[0],-1).T\n",
    "x_test_flattened = x_test.reshape(x_test.shape[0],-1).T"
   ]
  },
  {
   "cell_type": "code",
   "execution_count": 6,
   "metadata": {},
   "outputs": [
    {
     "name": "stdout",
     "output_type": "stream",
     "text": [
      "torch.Size([784, 60000])\n"
     ]
    },
    {
     "data": {
      "text/plain": [
       "torch.Size([784])"
      ]
     },
     "execution_count": 6,
     "metadata": {},
     "output_type": "execute_result"
    }
   ],
   "source": [
    "print(x_train_flattened.shape)\n",
    "x_train_flattened[:,0].shape\n"
   ]
  },
  {
   "cell_type": "code",
   "execution_count": 7,
   "metadata": {},
   "outputs": [],
   "source": [
    "x_train_flattened = x_train_flattened/255\n",
    "x_test_flattened = x_test_flattened/255"
   ]
  },
  {
   "cell_type": "code",
   "execution_count": 8,
   "metadata": {},
   "outputs": [],
   "source": [
    "X = x_train_flattened\n",
    "X_test = x_test_flattened\n",
    "Y = y_train\n",
    "Y_test = y_test"
   ]
  },
  {
   "cell_type": "code",
   "execution_count": 9,
   "metadata": {},
   "outputs": [],
   "source": [
    "def initialize_parameters(dim):\n",
    "    w = torch.zeros((dim,1),requires_grad=True)\n",
    "    b = torch.zeros(1,requires_grad=True)\n",
    "    return w, b"
   ]
  },
  {
   "cell_type": "code",
   "execution_count": 10,
   "metadata": {},
   "outputs": [],
   "source": [
    "def sigmoid(z):\n",
    "    a = 1/(1+torch.exp(-z))\n",
    "    return a"
   ]
  },
  {
   "cell_type": "code",
   "execution_count": 11,
   "metadata": {},
   "outputs": [],
   "source": [
    "def forward(X, w, b):\n",
    "    Y_hat = sigmoid(torch.mm(w.T, X) + b)\n",
    "    return Y_hat"
   ]
  },
  {
   "cell_type": "code",
   "execution_count": 12,
   "metadata": {},
   "outputs": [],
   "source": [
    "def Y_prediction(X, w, b):\n",
    "    Y_hat = forward(X, w, b)\n",
    "    for j in range(X.shape[1]):\n",
    "        if Y_hat[0,j] > 0.5:\n",
    "            Y_hat[0,j] = 1\n",
    "        else:\n",
    "            Y_hat[0,j] = 0\n",
    "    return Y_hat"
   ]
  },
  {
   "cell_type": "code",
   "execution_count": 13,
   "metadata": {},
   "outputs": [],
   "source": [
    "def gradient_descent(X, Y, num_iterations, learning_rate, print_cost = True):\n",
    "    m = X.shape[1]\n",
    "    cost_list = []\n",
    "\n",
    "    w, b = initialize_parameters(X.shape[0])\n",
    "    \n",
    "    for i in range(num_iterations+1):\n",
    "        Y_hat = forward(X, w, b)\n",
    "        cost = -(1/m)*torch.sum(Y*torch.log(Y_hat)+(1-Y)*torch.log(1-Y_hat))\n",
    "        cost.backward()\n",
    "        dw = w.grad\n",
    "        db = b.grad\n",
    "        w = w - learning_rate*dw\n",
    "        b = b - learning_rate*db\n",
    "        w.retain_grad()\n",
    "        b.retain_grad()\n",
    "        \n",
    "        if i % 100 == 0:\n",
    "            cost_list.append(cost)\n",
    "            if print_cost:\n",
    "                print(\"Cost after iteration {}: {}\".format(i,cost))\n",
    "        else: pass\n",
    "        \n",
    "    Y_hat_train = Y_prediction(X, w, b)\n",
    "    Y_hat_test = Y_prediction(X_test, w, b)\n",
    "    train_accuracy = 100 - torch.mean(torch.abs(Y_hat_train - Y))*100\n",
    "    test_accuracy = 100 - torch.mean(torch.abs(Y_hat_test - Y_test))*100\n",
    "\n",
    "    print(\"train accuracy: {}\".format(train_accuracy))\n",
    "    print(\"test accuracy: {}\".format(test_accuracy))\n",
    "    \n",
    "    d = {\"costs\": cost_list,\n",
    "         \"Y_prediction_test\": Y_hat_test, \n",
    "         \"Y_prediction_train\" : Y_hat_train, \n",
    "         \"w\" : w, \n",
    "         \"b\" : b,\n",
    "         \"learning_rate\" : learning_rate,\n",
    "         \"num_iterations\": num_iterations}\n",
    "    \n",
    "    return d"
   ]
  },
  {
   "cell_type": "code",
   "execution_count": 14,
   "metadata": {},
   "outputs": [
    {
     "name": "stdout",
     "output_type": "stream",
     "text": [
      "Cost after iteration 0: 0.6931473612785339\n",
      "Cost after iteration 100: 0.18515357375144958\n",
      "Cost after iteration 200: 0.15968424081802368\n",
      "Cost after iteration 300: 0.14740251004695892\n",
      "Cost after iteration 400: 0.13995696604251862\n",
      "Cost after iteration 500: 0.13487431406974792\n",
      "Cost after iteration 600: 0.13113616406917572\n",
      "Cost after iteration 700: 0.12824220955371857\n",
      "Cost after iteration 800: 0.1259165108203888\n",
      "Cost after iteration 900: 0.12399372458457947\n",
      "Cost after iteration 1000: 0.12236835062503815\n",
      "Cost after iteration 1100: 0.1209697425365448\n",
      "Cost after iteration 1200: 0.11974862962961197\n",
      "Cost after iteration 1300: 0.1186695545911789\n",
      "Cost after iteration 1400: 0.11770625412464142\n",
      "Cost after iteration 1500: 0.11683886498212814\n",
      "Cost after iteration 1600: 0.11605200171470642\n",
      "Cost after iteration 1700: 0.11533359438180923\n",
      "Cost after iteration 1800: 0.11467396467924118\n",
      "Cost after iteration 1900: 0.11406531929969788\n",
      "Cost after iteration 2000: 0.11350124329328537\n",
      "train accuracy: 96.125\n",
      "test accuracy: 96.19999694824219\n"
     ]
    }
   ],
   "source": [
    "d = gradient_descent(X, Y, num_iterations=2000, learning_rate=10**(-1), print_cost = True)"
   ]
  },
  {
   "cell_type": "code",
   "execution_count": 15,
   "metadata": {},
   "outputs": [
    {
     "name": "stdout",
     "output_type": "stream",
     "text": [
      "learning rate is: 10\n",
      "train accuracy: 90.08499908447266\n",
      "test accuracy: 89.91000366210938\n",
      "\n",
      "-------------------------------------------------------\n",
      "\n",
      "learning rate is: 1\n",
      "train accuracy: 96.4816665649414\n",
      "test accuracy: 96.54000091552734\n",
      "\n",
      "-------------------------------------------------------\n",
      "\n",
      "learning rate is: 0.1\n",
      "train accuracy: 95.80500030517578\n",
      "test accuracy: 95.87000274658203\n",
      "\n",
      "-------------------------------------------------------\n",
      "\n",
      "learning rate is: 0.01\n",
      "train accuracy: 93.16500091552734\n",
      "test accuracy: 93.58999633789062\n",
      "\n",
      "-------------------------------------------------------\n",
      "\n",
      "learning rate is: 0.0001\n",
      "train accuracy: 90.08499908447266\n",
      "test accuracy: 89.91000366210938\n",
      "\n",
      "-------------------------------------------------------\n",
      "\n"
     ]
    }
   ],
   "source": [
    "learning_rates = [10,1, 0.1, 0.01, 0.0001]\n",
    "models = {}\n",
    "for i in learning_rates:\n",
    "    print (\"learning rate is: \" + str(i))\n",
    "    models[str(i)] = gradient_descent(X, Y, num_iterations=1000, learning_rate=i, print_cost = False)\n",
    "    print ('\\n' + \"-------------------------------------------------------\" + '\\n')\n"
   ]
  },
  {
   "cell_type": "code",
   "execution_count": 16,
   "metadata": {},
   "outputs": [
    {
     "data": {
      "image/png": "[encoded data removed]",
      "text/plain": [
       "<Figure size 640x480 with 1 Axes>"
      ]
     },
     "metadata": {},
     "output_type": "display_data"
    }
   ],
   "source": [
    "for i in learning_rates:\n",
    "    plt.plot(np.squeeze([i.detach().numpy() for i in models[str(i)][\"costs\"]]), label= str(models[str(i)][\"learning_rate\"]))\n",
    "\n",
    "plt.ylabel('cost')\n",
    "plt.xlabel('iterations (hundreds)')\n",
    "\n",
    "legend = plt.legend(loc='upper right', shadow=True)\n",
    "frame = legend.get_frame()\n",
    "frame.set_facecolor('0.90')\n",
    "plt.grid()\n",
    "plt.show()"
   ]
  },
  {
   "cell_type": "code",
   "execution_count": null,
   "metadata": {},
   "outputs": [],
   "source": []
  },
  {
   "cell_type": "code",
   "execution_count": null,
   "metadata": {},
   "outputs": [],
   "source": []
  }
 ],
 "metadata": {
  "kernelspec": {
   "display_name": "Python 3",
   "language": "python",
   "name": "python3"
  },
  "language_info": {
   "codemirror_mode": {
    "name": "ipython",
    "version": 3
   },
   "file_extension": ".py",
   "mimetype": "text/x-python",
   "name": "python",
   "nbconvert_exporter": "python",
   "pygments_lexer": "ipython3",
   "version": "3.11.7"
  }
 },
 "nbformat": 4,
 "nbformat_minor": 2
}
